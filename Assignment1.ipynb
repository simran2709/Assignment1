{
  "nbformat": 4,
  "nbformat_minor": 0,
  "metadata": {
    "colab": {
      "provenance": []
    },
    "kernelspec": {
      "name": "python3",
      "display_name": "Python 3"
    },
    "language_info": {
      "name": "python"
    }
  },
  "cells": [
    {
      "cell_type": "markdown",
      "source": [
        "#ASSIGNMENT- 1\n",
        "                              "
      ],
      "metadata": {
        "id": "YsvZp22amDxv"
      }
    },
    {
      "cell_type": "markdown",
      "source": [
        "# Theory question"
      ],
      "metadata": {
        "id": "2Br2JXDDE941"
      }
    },
    {
      "cell_type": "markdown",
      "source": [
        "1. What is Python, and why is it popular?\n",
        "  - Python is a programming language that's easy to read and write. It is popular because it has lots of libraries to help in different tasks and codes, supports various ways of write code with the help of inbuilt codes.\n",
        "\n",
        "2. What is an interpreter in Python?\n",
        "   - An interpreter runs your Python code line by line and converts it into machine language so your computer can understand and execute it.\n",
        "\n",
        "3. What are pre-defined keywords in Python?\n",
        "   - Keywords are special words in Python, like if, else, or while etc, that have fixed meanings and are used to write code.\n",
        "\n",
        "4. Can keywords be used as variable names?\n",
        "   - No, you can not use keywords as variable names because they are reserved for specific purposes in Python.\n",
        "\n",
        "5. What is mutability in Python?\n",
        "   - Mutability means an object can be changed after it is created.\n",
        "\n",
        "6. Why are lists mutable, but tuples are immutable?\n",
        "   - Lists can be changed after they are made, so they are mutable. Tuples or string, on the other hand, can’t be changed, which makes them immutable. This is done to make tuples faster and to protect the data from being accidentally modified.\n",
        "\n",
        "7. What is the difference between \"==\" and \"is\" operators in Python?\n",
        "   - \"==\" checks if two things have the same value basically used in comparison.\n",
        "   - \"is\" checks if two things are the exact same object in memory.\n",
        "\n",
        "8. What are logical operators in Python?\n",
        "   - Logical operators are used to combine or negate conditions. For example:\n",
        "     and, or, not.\n",
        "\n",
        "9. What is type casting in Python?\n",
        "   - Type casting means converting data from one type to another, like turning a string into an integer or an integer into a string.\n",
        "\n",
        "10. What is the difference between implicit and explicit type casting?\n",
        "    - Implicit: Python does it automatically, like converting an integer to a float.\n",
        "    - Explicit: You do it yourself using functions like int() or float().\n",
        "\n",
        "11. What is the purpose of conditional statements in Python?\n",
        "    - Conditional statements help your program make decisions based on conditions. For example, if a condition is true, do something; otherwise, do something else.\n",
        "\n",
        "12. How does the elif statement work?\n",
        "    - The elif statement lets you check multiple conditions if the first if condition is false.\n",
        "\n",
        "13. What is the difference between for and while loops?\n",
        "    - For loop: You use it when you know how many times you want to repeat something.\n",
        "    - While loop: You use it when you want to repeat something as long as a condition is true.\n",
        "\n",
        "14. Describe a scenario where a while loop is more suitable than a for loop.\n",
        "    - A while loop is better when you need to keep doing something until a condition changes, like flipping a coin until you get heads , you don’t know how many tries it will take.\n",
        "\n",
        "\n",
        "\n",
        "\n"
      ],
      "metadata": {
        "id": "gWIcAV6sFfd8"
      }
    },
    {
      "cell_type": "markdown",
      "source": [
        "# Practical question"
      ],
      "metadata": {
        "id": "yLD0WV0AHHwv"
      }
    },
    {
      "cell_type": "code",
      "execution_count": null,
      "metadata": {
        "colab": {
          "base_uri": "https://localhost:8080/"
        },
        "id": "UeWjmzzYDWgD",
        "outputId": "7ae3315a-1583-46aa-9ede-fcc6f310b144"
      },
      "outputs": [
        {
          "output_type": "stream",
          "name": "stdout",
          "text": [
            "Hello, World!\n"
          ]
        }
      ],
      "source": [
        "# 1. Write a Python program to print \"Hello, World!\"\n",
        "print(\"Hello, World!\")\n"
      ]
    },
    {
      "cell_type": "code",
      "source": [
        "# 2. Write a Python program that displays your name and age.\n",
        "name =\"Simran\"\n",
        "age =20\n",
        "print(\"Name\", name)\n",
        "print(\"Age\", age)"
      ],
      "metadata": {
        "colab": {
          "base_uri": "https://localhost:8080/"
        },
        "id": "yK_ZU4hIOOsU",
        "outputId": "25193c21-d9dc-4c12-d0d0-d9ef49d99f25"
      },
      "execution_count": null,
      "outputs": [
        {
          "output_type": "stream",
          "name": "stdout",
          "text": [
            "Name Simran\n",
            "Age 20\n"
          ]
        }
      ]
    },
    {
      "cell_type": "code",
      "source": [
        "# 3. Write code to print all the pre-defined keywords in Python using the keyword library.\n",
        "import keyword\n",
        "print(\"keywords:-\")\n",
        "print(keyword.kwlist)"
      ],
      "metadata": {
        "colab": {
          "base_uri": "https://localhost:8080/"
        },
        "id": "sE_7OuF5PduP",
        "outputId": "4f7de6f1-04fe-42a2-c5fd-11f0f9dd422e"
      },
      "execution_count": null,
      "outputs": [
        {
          "output_type": "stream",
          "name": "stdout",
          "text": [
            "keywords:-\n",
            "['False', 'None', 'True', 'and', 'as', 'assert', 'async', 'await', 'break', 'class', 'continue', 'def', 'del', 'elif', 'else', 'except', 'finally', 'for', 'from', 'global', 'if', 'import', 'in', 'is', 'lambda', 'nonlocal', 'not', 'or', 'pass', 'raise', 'return', 'try', 'while', 'with', 'yield']\n"
          ]
        }
      ]
    },
    {
      "cell_type": "code",
      "source": [
        "# 4. Write a program that checks if a given word is a Python keyword.\n",
        "import keyword\n",
        "word = input(\"Enter:\")\n",
        "if (keyword.kwlist):\n",
        "  print(\"it's a keyword\")\n",
        "else:\n",
        "  print(\"try again\")"
      ],
      "metadata": {
        "colab": {
          "base_uri": "https://localhost:8080/"
        },
        "id": "HL_l-rM-RYFe",
        "outputId": "d4bb3bb2-ad40-46bb-abd2-10fd7383ee94"
      },
      "execution_count": null,
      "outputs": [
        {
          "output_type": "stream",
          "name": "stdout",
          "text": [
            "Enter: for\n",
            "it's a keyword\n"
          ]
        }
      ]
    },
    {
      "cell_type": "code",
      "source": [
        "# 5.Create a list and tuple in Python, and demonstrate how attempting to change an element works differently for each.\n",
        "list=[1,2,3,\"siash\",\"simran\",4]\n",
        "list[3]"
      ],
      "metadata": {
        "colab": {
          "base_uri": "https://localhost:8080/",
          "height": 35
        },
        "id": "JB8VMNtKWVY2",
        "outputId": "d362d13b-6d2e-4a3c-91dd-715ed62cdfe3"
      },
      "execution_count": null,
      "outputs": [
        {
          "output_type": "execute_result",
          "data": {
            "text/plain": [
              "'siash'"
            ],
            "application/vnd.google.colaboratory.intrinsic+json": {
              "type": "string"
            }
          },
          "metadata": {},
          "execution_count": 44
        }
      ]
    },
    {
      "cell_type": "code",
      "source": [
        "list[3] =\"yash\"\n",
        "list"
      ],
      "metadata": {
        "colab": {
          "base_uri": "https://localhost:8080/"
        },
        "id": "NnOYfcWLXTYc",
        "outputId": "a31e6431-350c-46b8-cd0e-608e95c2b49e"
      },
      "execution_count": null,
      "outputs": [
        {
          "output_type": "execute_result",
          "data": {
            "text/plain": [
              "[1, 2, 3, 'yash', 'simran', 4]"
            ]
          },
          "metadata": {},
          "execution_count": 46
        }
      ]
    },
    {
      "cell_type": "code",
      "source": [
        "tuple= (1, 2, 3)\n",
        "tuple[0]"
      ],
      "metadata": {
        "colab": {
          "base_uri": "https://localhost:8080/"
        },
        "id": "h5NARXUsXokO",
        "outputId": "c139fad0-cdc2-4080-f798-a0ded5119318"
      },
      "execution_count": null,
      "outputs": [
        {
          "output_type": "execute_result",
          "data": {
            "text/plain": [
              "1"
            ]
          },
          "metadata": {},
          "execution_count": 47
        }
      ]
    },
    {
      "cell_type": "code",
      "source": [
        "tuple[0]= 10\n",
        "tuple"
      ],
      "metadata": {
        "colab": {
          "base_uri": "https://localhost:8080/",
          "height": 159
        },
        "id": "d6YBjmlPYE1E",
        "outputId": "1fec6d09-343f-45fa-a59d-579a70b9e9e3"
      },
      "execution_count": null,
      "outputs": [
        {
          "output_type": "error",
          "ename": "TypeError",
          "evalue": "'tuple' object does not support item assignment",
          "traceback": [
            "\u001b[0;31m---------------------------------------------------------------------------\u001b[0m",
            "\u001b[0;31mTypeError\u001b[0m                                 Traceback (most recent call last)",
            "\u001b[0;32m<ipython-input-48-20bc360512f7>\u001b[0m in \u001b[0;36m<cell line: 0>\u001b[0;34m()\u001b[0m\n\u001b[0;32m----> 1\u001b[0;31m \u001b[0mtuple\u001b[0m\u001b[0;34m[\u001b[0m\u001b[0;36m0\u001b[0m\u001b[0;34m]\u001b[0m\u001b[0;34m=\u001b[0m \u001b[0;36m10\u001b[0m\u001b[0;34m\u001b[0m\u001b[0;34m\u001b[0m\u001b[0m\n\u001b[0m\u001b[1;32m      2\u001b[0m \u001b[0mtuple\u001b[0m\u001b[0;34m\u001b[0m\u001b[0;34m\u001b[0m\u001b[0m\n",
            "\u001b[0;31mTypeError\u001b[0m: 'tuple' object does not support item assignment"
          ]
        }
      ]
    },
    {
      "cell_type": "code",
      "source": [
        "# 6. Write a function to demonstrate the behavior of mutable and immutable arguments.\n",
        "def test(mutable, immutable):\n",
        "    mutable.append(10)  # Adds 10 to the list\n",
        "    immutable += 10     # Adds 10 to the number (inside only)\n",
        "    print(\"function:\", mutable,immutable)"
      ],
      "metadata": {
        "id": "MwCwoyy9YQfM"
      },
      "execution_count": null,
      "outputs": []
    },
    {
      "cell_type": "code",
      "source": [
        "# 7. Write a program that performs basic arithmetic operations on two user-input numbers\n",
        "a = int(input(\"Enter first number: \"))\n",
        "b = int(input(\"Enter second number: \"))\n",
        "print(\"Addition:\", a+b)\n",
        "print(\"Subtraction:\", a-b)\n",
        "print(\"Multiplication:\", a*b)\n",
        "print(\"Division:\", a/b)\n",
        "print(\"Modulus:\", a%b)\n",
        "print(\"Exponential:\", a**b)"
      ],
      "metadata": {
        "colab": {
          "base_uri": "https://localhost:8080/"
        },
        "id": "e_4NF8z_b6yo",
        "outputId": "1b69e14b-b2b4-4440-d713-94ba11af0f15"
      },
      "execution_count": null,
      "outputs": [
        {
          "output_type": "stream",
          "name": "stdout",
          "text": [
            "Enter first number: 5\n",
            "Enter second number: 10\n",
            "Addition: 15\n",
            "Subtraction: -5\n",
            "Multiplication: 50\n",
            "Division: 0.5\n",
            "Modulus: 5\n",
            "Exponential: 9765625\n"
          ]
        }
      ]
    },
    {
      "cell_type": "code",
      "source": [
        "# 8. Write a program to demonstrate the use of logical operators.\n",
        "x = 5\n",
        "y = 10\n",
        "print(\"x > 3 and y < 15\", x > 3 and y < 15)\n",
        "print(\"x < 3 and y > 8\", x < 3 and y > 8)"
      ],
      "metadata": {
        "colab": {
          "base_uri": "https://localhost:8080/"
        },
        "id": "EgwMm3Tlc-HT",
        "outputId": "37ad54e7-dcc2-4ec0-95ac-9d838b0ac117"
      },
      "execution_count": 10,
      "outputs": [
        {
          "output_type": "stream",
          "name": "stdout",
          "text": [
            "x > 3 and y < 15 True\n",
            "x < 3 and y > 8 False\n"
          ]
        }
      ]
    },
    {
      "cell_type": "code",
      "source": [
        "# 9. Write a Python program to convert user input from string to integer, float, and boolean types\n",
        "value = input(\"Enter a value: \")\n",
        "print(\"As Integer:\", int(value))\n",
        "print(\"As Float:\", float(value))\n",
        "print(\"As Boolean:\", bool(value))\n"
      ],
      "metadata": {
        "colab": {
          "base_uri": "https://localhost:8080/"
        },
        "id": "V49n0gaCiFc5",
        "outputId": "25aed1cf-c2bb-4de0-adcd-d7b5c444a3ef"
      },
      "execution_count": null,
      "outputs": [
        {
          "output_type": "stream",
          "name": "stdout",
          "text": [
            "Enter a value: 3\n",
            "As Integer: 3\n",
            "As Float: 3.0\n",
            "As Boolean: True\n"
          ]
        }
      ]
    },
    {
      "cell_type": "code",
      "source": [
        "#10. Write code to demonstrate type casting with list elements\n",
        "A = [\"1\", \"2.5\", \"True\"]\n",
        "# Convert list elements\n",
        "value1 = int(A[0])\n",
        "value2= float(A[1])\n",
        "value3= bool(A[2])\n",
        "\n",
        "print(value1 , value2 , value3 ,end=\"\")"
      ],
      "metadata": {
        "colab": {
          "base_uri": "https://localhost:8080/"
        },
        "id": "WdKjGG-mizWW",
        "outputId": "f964ef8e-5a8f-4fbb-92dd-c0c428cfa310"
      },
      "execution_count": null,
      "outputs": [
        {
          "output_type": "stream",
          "name": "stdout",
          "text": [
            "1 2.5 True"
          ]
        }
      ]
    },
    {
      "cell_type": "code",
      "source": [
        "#11. Write a program that checks if a number is positive, negative, or zero.\n",
        "A = int(input(\"Enter a number: \"))\n",
        "if A > 0:\n",
        "    print(\"Positive\")\n",
        "elif A < 0:\n",
        "    print(\"Negative\")\n",
        "else:\n",
        "    print(\"Zero\")\n"
      ],
      "metadata": {
        "colab": {
          "base_uri": "https://localhost:8080/"
        },
        "id": "BRO5WSixkHWz",
        "outputId": "daa59709-c7d9-440b-8b0a-a04d2bcec18b"
      },
      "execution_count": null,
      "outputs": [
        {
          "output_type": "stream",
          "name": "stdout",
          "text": [
            "Enter a number: 25\n",
            "Positive\n"
          ]
        }
      ]
    },
    {
      "cell_type": "code",
      "source": [
        "#12. Write a for loop to print numbers from 1 to 10\n",
        "for i in range(1,11):\n",
        "    print(i , end=\" ,  \")"
      ],
      "metadata": {
        "colab": {
          "base_uri": "https://localhost:8080/"
        },
        "id": "-FZd5usfk7EQ",
        "outputId": "01a21eec-7523-4f75-8d16-f65d04e69a42"
      },
      "execution_count": 8,
      "outputs": [
        {
          "output_type": "stream",
          "name": "stdout",
          "text": [
            "1 ,  2 ,  3 ,  4 ,  5 ,  6 ,  7 ,  8 ,  9 ,  10 ,  "
          ]
        }
      ]
    },
    {
      "cell_type": "code",
      "source": [
        "#13. Write a Python program to find the sum of all even numbers between 1 and 50\n",
        "total=0\n",
        "for i in range(1,51):\n",
        "    if i%2 ==0:\n",
        "      total+=i\n",
        "      print(total , end=\" , \")"
      ],
      "metadata": {
        "colab": {
          "base_uri": "https://localhost:8080/"
        },
        "id": "_-ga8VOgmUPP",
        "outputId": "5dea231f-d653-442e-a7d0-d92640a44f5c"
      },
      "execution_count": 7,
      "outputs": [
        {
          "output_type": "stream",
          "name": "stdout",
          "text": [
            "2 , 6 , 12 , 20 , 30 , 42 , 56 , 72 , 90 , 110 , 132 , 156 , 182 , 210 , 240 , 272 , 306 , 342 , 380 , 420 , 462 , 506 , 552 , 600 , 650 , "
          ]
        }
      ]
    },
    {
      "cell_type": "code",
      "source": [
        "#14.  Write a program to reverse a string using a while loop\n",
        "string = \"hello world\"\n",
        "reversed_string = \"\"\n",
        "i = len(string)\n",
        "while i > 0:\n",
        "    reversed_string += string[i - 1]\n",
        "    i -= 1\n",
        "print(reversed_string)"
      ],
      "metadata": {
        "id": "vJ5Se6NXnVzE",
        "colab": {
          "base_uri": "https://localhost:8080/"
        },
        "outputId": "8d68de10-1dc6-4107-93a2-13cdbd336d03"
      },
      "execution_count": 4,
      "outputs": [
        {
          "output_type": "stream",
          "name": "stdout",
          "text": [
            "dlrow olleh\n"
          ]
        }
      ]
    },
    {
      "cell_type": "code",
      "source": [
        "#15. Write a Python program to calculate the factorial of a number provided by the user using a while loop.\n",
        "n = int(input(\"Enter a number: \"))\n",
        "factorial = 1\n",
        "while n > 1:\n",
        "    factorial = factorial*n\n",
        "    n = n-1\n",
        "print(\"Factorial is:\", factorial)\n",
        "\n"
      ],
      "metadata": {
        "id": "LmQlnFW6n1gL",
        "colab": {
          "base_uri": "https://localhost:8080/"
        },
        "outputId": "0f431daf-9170-4ad7-e71d-24d3064c6d47"
      },
      "execution_count": 15,
      "outputs": [
        {
          "output_type": "stream",
          "name": "stdout",
          "text": [
            "Enter a number: 10\n",
            "Factorial is: 3628800\n"
          ]
        }
      ]
    },
    {
      "cell_type": "markdown",
      "source": [
        "#####..........................................................................................................................................................................................................................................................................................................................."
      ],
      "metadata": {
        "id": "_fFhzghilWe3"
      }
    }
  ]
}